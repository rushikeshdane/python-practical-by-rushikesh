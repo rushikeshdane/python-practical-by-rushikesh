{
 "cells": [
  {
   "cell_type": "markdown",
   "metadata": {},
   "source": [
    "# Name :Rushikesh sanjay dane"
   ]
  },
  {
   "cell_type": "markdown",
   "metadata": {},
   "source": [
    "L. V. H. Arts, Science and Commerce College, Panchavati, Nashik – 003\n",
    "M. Sc. – II Mathematics\n",
    "Programming with Python (MTUT 143)"
   ]
  },
  {
   "cell_type": "markdown",
   "metadata": {},
   "source": [
    "# Practical 1"
   ]
  },
  {
   "cell_type": "markdown",
   "metadata": {},
   "source": [
    "# A] Explain a few applications of Python."
   ]
  },
  {
   "cell_type": "markdown",
   "metadata": {},
   "source": [
    "python can be used as scripting as well as object oriented programming language \n",
    "\n",
    "it is used it web development - e.g framwork such as flask and django\n",
    "\n",
    ", game development e.g libraries - pygame\n",
    "\n",
    "data science e.g libraries - pandas, numpy , and many other AI libraries"
   ]
  },
  {
   "cell_type": "markdown",
   "metadata": {},
   "source": [
    "# B] Explain the chronology of the development of Python."
   ]
  },
  {
   "cell_type": "markdown",
   "metadata": {},
   "source": [
    "The programming language Python was conceived in the late 1980s,\n",
    "and its implementation was started in December 1989 by Guido van Rossum at CWI in the Netherlands\n",
    "as a successor to ABC capable of exception handling and interfacing with the Amoeba operating system.\n",
    "\n",
    "story : guido van rossum developer of pyhton loves to watch BBc show named flying circus and he really like the \n",
    "    performance of Monty python in show so therfore he named this programming language after monty python name."
   ]
  },
  {
   "cell_type": "markdown",
   "metadata": {},
   "source": [
    "# C] Name some Editors in Python."
   ]
  },
  {
   "cell_type": "markdown",
   "metadata": {},
   "source": [
    "vs code , pycharm , jupyter notebook ,spyder, atom and sublime etc.."
   ]
  },
  {
   "cell_type": "markdown",
   "metadata": {},
   "source": [
    "# D] What languages can be supported by Python?"
   ]
  },
  {
   "cell_type": "markdown",
   "metadata": {},
   "source": [
    "python is multi paradigim language it supports object oriented programming ,structured programming language also used as\n",
    "functional programming language\n",
    "\n",
    "pyhton can be integrated programming language such as c ,c++ , java and sql "
   ]
  },
  {
   "cell_type": "markdown",
   "metadata": {},
   "source": [
    "# E] What is the advantage of using Python over other languages?"
   ]
  },
  {
   "cell_type": "markdown",
   "metadata": {},
   "source": [
    "python is beginner friendly language has less syntax compared to other programming language , it has many useful inbuilt \n",
    "feature and as it is part of open  source ,their is wide community of python which contributes to making amazing libraries\n",
    "for pyhthon . its supports oops programming, many libraries are availabel for AI and Ml ."
   ]
  },
  {
   "cell_type": "markdown",
   "metadata": {},
   "source": [
    "# F] Name data types in Python. (If any)"
   ]
  },
  {
   "cell_type": "markdown",
   "metadata": {},
   "source": [
    "1) independent data types = string , integer , float , complex number and boolean \n",
    "\n",
    "2) dependent data types = tupal , list , dictionary and set"
   ]
  },
  {
   "cell_type": "markdown",
   "metadata": {},
   "source": [
    "# Practical 2"
   ]
  },
  {
   "cell_type": "markdown",
   "metadata": {},
   "source": [
    "A] Write a python programme which accepts the value “2.451” and returns the number which is nearest integer greater than it using Ceil function\n"
   ]
  },
  {
   "cell_type": "code",
   "execution_count": 22,
   "metadata": {},
   "outputs": [
    {
     "name": "stdout",
     "output_type": "stream",
     "text": [
      "enter any number :2.451\n",
      "3\n"
     ]
    }
   ],
   "source": [
    "import math \n",
    "\n",
    "n = float(input('enter any number :')) # taking deciml input\n",
    "var = math.ceil(n)  # ceil is inbuilt fuction which will round of our float number nearest integer greater than it\n",
    "print(var)"
   ]
  },
  {
   "cell_type": "markdown",
   "metadata": {},
   "source": [
    "B] Write a python programme which accepts two integers and returns one integer with sign of another using copy sign function.\n"
   ]
  },
  {
   "cell_type": "code",
   "execution_count": 7,
   "metadata": {},
   "outputs": [
    {
     "name": "stdout",
     "output_type": "stream",
     "text": [
      "number 67\n",
      "number -7\n",
      "sign change of 67 to  -67\n"
     ]
    }
   ],
   "source": [
    "n1 = int(input(\"number \"))\n",
    "n2 = int(input(\"number \"))\n",
    "\n",
    "change_sign = math.copysign(n1,n2)\n",
    "print(\"sign change of {0} to \".format(n1), int(change_sign))"
   ]
  },
  {
   "cell_type": "markdown",
   "metadata": {},
   "source": [
    "C] Write a python programme which accepts the value “2.451” and returns the number which is nearest integer smaller than it using Floor function.\n"
   ]
  },
  {
   "cell_type": "code",
   "execution_count": 8,
   "metadata": {},
   "outputs": [
    {
     "name": "stdout",
     "output_type": "stream",
     "text": [
      "enter any number2.451\n"
     ]
    },
    {
     "data": {
      "text/plain": [
       "2"
      ]
     },
     "execution_count": 8,
     "metadata": {},
     "output_type": "execute_result"
    }
   ],
   "source": [
    "import math \n",
    "\n",
    "n = float(input('enter any number')) # taking deciml input\n",
    "var = math.floor(n) # ceil is inbuilt fuction which will round of our float number  nearest integer smaller than it\n",
    "print(var)"
   ]
  },
  {
   "cell_type": "markdown",
   "metadata": {},
   "source": [
    "D] Write a python code to swap two numbers using tuples.\n"
   ]
  },
  {
   "cell_type": "code",
   "execution_count": 10,
   "metadata": {},
   "outputs": [
    {
     "name": "stdout",
     "output_type": "stream",
     "text": [
      "6 5\n"
     ]
    }
   ],
   "source": [
    "a= 5\n",
    "b = 6\n",
    "(a,b) = (b,a) # using tuple to replace value\n",
    "\n",
    "print(a,b)"
   ]
  },
  {
   "cell_type": "markdown",
   "metadata": {},
   "source": [
    "E] Write a python code which accept the coordinates of a point in 2 – dimension and find its distance from the origin."
   ]
  },
  {
   "cell_type": "code",
   "execution_count": 12,
   "metadata": {},
   "outputs": [
    {
     "name": "stdout",
     "output_type": "stream",
     "text": [
      "enter x1 : 2\n",
      "enter x2 : 7\n",
      "enter y1 : 7\n",
      "enter y2 : 8\n",
      "the distance between cordinates is  5.0990195135927845\n"
     ]
    }
   ],
   "source": [
    "x1=int(input(\"enter x1 : \"))  # taking intger input\n",
    "\n",
    "x2=int(input(\"enter x2 : \"))\n",
    "\n",
    "y1=int(input(\"enter y1 : \"))\n",
    "\n",
    "y2=int(input(\"enter y2 : \"))\n",
    "\n",
    "result= ((((x2 - x1 )**2) + ((y2-y1)**2) )**0.5)  # distance formula\n",
    "\n",
    "print(\"the distance between cordinates is :\",result)"
   ]
  },
  {
   "cell_type": "markdown",
   "metadata": {},
   "source": [
    "# pracical 3"
   ]
  },
  {
   "cell_type": "markdown",
   "metadata": {},
   "source": [
    "A] Write a python programme which accept an integer between 1000 and 9999 and find sum of its digits.\n"
   ]
  },
  {
   "cell_type": "code",
   "execution_count": 17,
   "metadata": {},
   "outputs": [
    {
     "name": "stdout",
     "output_type": "stream",
     "text": [
      "4321\n"
     ]
    }
   ],
   "source": [
    "n =  int(input(\"enter any integer \")) # taking integer input\n",
    "\n",
    "if n >1000 and n <=9999:  # condition to check number between 1000 and 9999\n",
    "    rev =0             # reverse counter\n",
    "    while n > 0:          # entering the loop\n",
    "    \n",
    "        last_digit = n % 10     \n",
    "        rev = rev*10 + last_digit # this will revese the postition of number ,last number of n is first \n",
    "        n = n// 10 # moving to next numbers\n",
    "    print(rev)\n",
    "    \n",
    "else :\n",
    "    print(\"invalid number\")"
   ]
  },
  {
   "cell_type": "code",
   "execution_count": 24,
   "metadata": {},
   "outputs": [
    {
     "name": "stdout",
     "output_type": "stream",
     "text": [
      "123\n",
      "4\n"
     ]
    }
   ],
   "source": [
    "# this will help to undestand above code\n",
    "print(1234//10)\n",
    "print(1234 %10)\n"
   ]
  },
  {
   "cell_type": "markdown",
   "metadata": {},
   "source": [
    "B] Write a python programme which accept 3 digit number and display its reverse.\n"
   ]
  },
  {
   "cell_type": "code",
   "execution_count": 20,
   "metadata": {},
   "outputs": [
    {
     "name": "stdout",
     "output_type": "stream",
     "text": [
      "876\n"
     ]
    }
   ],
   "source": [
    "n=int(input(\"enter any integer \")) # same code as above just change\n",
    "if n >=100 and n <=999:                #  condition to check number between 100 and 999\n",
    "    rev =0\n",
    "    while n > 0:\n",
    "    \n",
    "        last_digit = n % 10\n",
    "        rev = rev*10 + last_digit\n",
    "        n = n// 10\n",
    "    print(rev)\n",
    "else :\n",
    "    print(\"invalid number\")"
   ]
  },
  {
   "cell_type": "markdown",
   "metadata": {},
   "source": [
    "C] Write a python programme which accept 4 digit number and display the number which is at 10th unit place.\n"
   ]
  },
  {
   "cell_type": "code",
   "execution_count": 28,
   "metadata": {},
   "outputs": [
    {
     "name": "stdout",
     "output_type": "stream",
     "text": [
      "enter any integer 8659\n",
      "number at 10 the position is 6 \n"
     ]
    }
   ],
   "source": [
    "n = int(input(\"enter any integer \"))    # taking intger input \n",
    "\n",
    "if n>= 1000 and n <10000:         # defingin condition for only three digit number\n",
    "    output = int(n/100)%10          # geting 10 place of three digit number\n",
    "    print(\"number at 10 the position is {0} \".format(output))\n",
    "else :                              # if it is not an three digit number\n",
    "    print(\"enter correct number\")"
   ]
  },
  {
   "cell_type": "markdown",
   "metadata": {},
   "source": [
    "D] Write a python programme which accept an integer and display whether it is even or odd.\n",
    "."
   ]
  },
  {
   "cell_type": "code",
   "execution_count": 22,
   "metadata": {},
   "outputs": [
    {
     "name": "stdout",
     "output_type": "stream",
     "text": [
      "enter any integer 4\n",
      "4 is even\n"
     ]
    }
   ],
   "source": [
    "n = int(input(\"enter any integer \"))\n",
    "\n",
    "if n %2 == 0:       # condition to check even number , if it is multiple of 2\n",
    "    print(n,\"is even\")\n",
    "elif n % 2 != 0:           # to check odd number , if it is not multiple of 2\n",
    "    print(n,\"is odd\")"
   ]
  },
  {
   "cell_type": "markdown",
   "metadata": {},
   "source": [
    "E] Write a python programme which accept a year and display whether it is leap year or not.\n"
   ]
  },
  {
   "cell_type": "code",
   "execution_count": 1,
   "metadata": {},
   "outputs": [
    {
     "name": "stdout",
     "output_type": "stream",
     "text": [
      "enter year :2000\n",
      "2000 is leap year\n"
     ]
    }
   ],
   "source": [
    "year = int(input(\"enter year :\"))\n",
    "\n",
    "if ((year %4 == 0 and year % 100 !=0) or year % 400 == 0): # 1st condition to check multuiple of 4\n",
    "                                    # 2 nd conditon is to avoid years like 1700,1800 ,1900 as they are not leap year\n",
    "                              # 3 rd condtion to include year lik 1600, 2000 etc because this are leap year\n",
    "    print(year ,\"is leap year\")\n",
    "    \n",
    "else:\n",
    "    print(year,\"not an leap year\")"
   ]
  },
  {
   "cell_type": "markdown",
   "metadata": {},
   "source": [
    "F] Write a python programme which accept 3 distinct integers and display the greatest among them.\n"
   ]
  },
  {
   "cell_type": "code",
   "execution_count": 2,
   "metadata": {},
   "outputs": [
    {
     "name": "stdout",
     "output_type": "stream",
     "text": [
      "enter any number 2\n",
      "enter any number 6\n",
      "enter any number 99\n",
      " \n",
      "99  this is our greatest number\n"
     ]
    }
   ],
   "source": [
    "one = int(input(\"enter any number \"))      # taking integer input\n",
    "two   = int(input(\"enter any number \"))\n",
    "three  = int(input(\"enter any number \"))\n",
    "print(' ')\n",
    " \n",
    "if one > two and one > three:    # checking first number is greater than other two\n",
    "    print(one,\" this is our greatest number\")\n",
    "elif two > one and two > three :        # checking second number is greater than other two\n",
    "    print(two,\" this is our greatest number\")\n",
    "else :                                    # if first two condition are not satisfied then automatically third number is greater\n",
    "    print(three,\" this is our greatest number\")"
   ]
  },
  {
   "cell_type": "markdown",
   "metadata": {},
   "source": [
    "G] Write a python programme which accept a number and display whether it is divisible by 3 and 13."
   ]
  },
  {
   "cell_type": "code",
   "execution_count": 3,
   "metadata": {},
   "outputs": [
    {
     "name": "stdout",
     "output_type": "stream",
     "text": [
      "enter any number :39\n",
      "39 is divisible by 13 and 3\n"
     ]
    }
   ],
   "source": [
    "n = int(input('enter any number :'))\n",
    "\n",
    "if n % 3 == 0 and n % 13 == 0:          # checking divisiblity with 3 and 13\n",
    "    print(n,\"is divisible by 13 and 3\")\n",
    "else:\n",
    "    print(n,\"not divisible by 3 and 13\")"
   ]
  },
  {
   "cell_type": "markdown",
   "metadata": {},
   "source": [
    "# practical 4"
   ]
  },
  {
   "cell_type": "markdown",
   "metadata": {},
   "source": [
    "A] Write a python programme which accept positive integer and display its factorial.\n"
   ]
  },
  {
   "cell_type": "code",
   "execution_count": 9,
   "metadata": {},
   "outputs": [],
   "source": [
    "def fact(n):                # creation function ,passing argument n to take integer\n",
    "    multiple = 1                   # multiplyer\n",
    "    for i in range(1,n+1):        # entering the loop from 1 to our integer\n",
    "        multiple = multiple * i    # this is doning factorial multiplication\n",
    "    \n",
    "    return multiple       "
   ]
  },
  {
   "cell_type": "code",
   "execution_count": 11,
   "metadata": {},
   "outputs": [
    {
     "name": "stdout",
     "output_type": "stream",
     "text": [
      "enter any number:3\n"
     ]
    },
    {
     "data": {
      "text/plain": [
       "6"
      ]
     },
     "execution_count": 11,
     "metadata": {},
     "output_type": "execute_result"
    }
   ],
   "source": [
    "n = int(input(\"enter any number:\"))\n",
    "fact(n)          # calling function"
   ]
  },
  {
   "cell_type": "markdown",
   "metadata": {},
   "source": [
    "B] Write a python programme which accept 2 integers m and n and display the value of m^n.\n"
   ]
  },
  {
   "cell_type": "code",
   "execution_count": 33,
   "metadata": {},
   "outputs": [],
   "source": [
    "def raise_to(m,n):     # definging fucntion passing two input m and n\n",
    "    return m**n       "
   ]
  },
  {
   "cell_type": "code",
   "execution_count": 34,
   "metadata": {},
   "outputs": [
    {
     "data": {
      "text/plain": [
       "1024"
      ]
     },
     "execution_count": 34,
     "metadata": {},
     "output_type": "execute_result"
    }
   ],
   "source": [
    "raise_to(4,5) # function call"
   ]
  },
  {
   "cell_type": "markdown",
   "metadata": {},
   "source": [
    "C] Write different python programme which display the following patterns."
   ]
  },
  {
   "cell_type": "markdown",
   "metadata": {},
   "source": [
    "   1\n",
    "\n",
    "   2 2\n",
    "\n",
    "   3 3 3\n",
    "\n",
    "   4 4 4 4 "
   ]
  },
  {
   "cell_type": "code",
   "execution_count": 5,
   "metadata": {},
   "outputs": [
    {
     "name": "stdout",
     "output_type": "stream",
     "text": [
      "1 \n",
      "2 2 \n",
      "3 3 3 \n",
      "4 4 4 4 \n"
     ]
    }
   ],
   "source": [
    "for i in range(1,5):      # getting number 1,2,3,4 through looping\n",
    "    \n",
    "    c = str(i)             # changing type from int to string \n",
    "    c = c +' '              # adding space to string\n",
    "    print(i * c)"
   ]
  },
  {
   "cell_type": "markdown",
   "metadata": {},
   "source": [
    "2.\n",
    "\n",
    "    2\n",
    "\n",
    "    2 3\n",
    "\n",
    "    2 3 4\n",
    "\n",
    "    2 3 4 5"
   ]
  },
  {
   "cell_type": "code",
   "execution_count": 6,
   "metadata": {},
   "outputs": [
    {
     "name": "stdout",
     "output_type": "stream",
     "text": [
      "2  \n",
      "2 3  \n",
      "2 3 4  \n",
      "2 3 4 5  \n"
     ]
    }
   ],
   "source": [
    "for i in range(2,6):          # getting number 2,3,4,5 through looping\n",
    "    for j in range(2,i+1):    # this loop is doing addition to number e.g : 2 +1 = 3, 3 + 1 = 4\n",
    "        print(j , end = \" \")    # printing  our output j in single line with space\n",
    "    print(' ')                 # this will help to pring that triangular pattern\n",
    "    "
   ]
  },
  {
   "cell_type": "markdown",
   "metadata": {},
   "source": [
    "D] Write a python programme which accept an integer and display whether it is prime or not?"
   ]
  },
  {
   "cell_type": "code",
   "execution_count": 9,
   "metadata": {},
   "outputs": [
    {
     "name": "stdout",
     "output_type": "stream",
     "text": [
      "it is  prime number 5\n"
     ]
    }
   ],
   "source": [
    "def is_prime(n):\n",
    "    if n >1:       # cheking number is greater than 1\n",
    "        \n",
    "        for i in range(2,n):  # entring loop start form 2 to our n\n",
    "            if n % i == 0:    # if this condition is true number not an prime\n",
    "            \n",
    "                break # end the loop\n",
    "        else:\n",
    "            \n",
    "             print(\"it is  prime number\",n)\n",
    "is_prime(5) "
   ]
  },
  {
   "cell_type": "code",
   "execution_count": 10,
   "metadata": {},
   "outputs": [
    {
     "name": "stdout",
     "output_type": "stream",
     "text": [
      "it is  prime number 2\n",
      "it is  prime number 3\n",
      "it is  prime number 5\n",
      "it is  prime number 7\n",
      "it is  prime number 11\n",
      "it is  prime number 13\n",
      "it is  prime number 17\n",
      "it is  prime number 19\n",
      "it is  prime number 23\n",
      "it is  prime number 29\n",
      "it is  prime number 31\n",
      "it is  prime number 37\n",
      "it is  prime number 41\n",
      "it is  prime number 43\n",
      "it is  prime number 47\n",
      "it is  prime number 53\n",
      "it is  prime number 59\n",
      "it is  prime number 61\n",
      "it is  prime number 67\n",
      "it is  prime number 71\n",
      "it is  prime number 73\n",
      "it is  prime number 79\n",
      "it is  prime number 83\n",
      "it is  prime number 89\n",
      "it is  prime number 97\n"
     ]
    },
    {
     "data": {
      "text/plain": [
       "[]"
      ]
     },
     "execution_count": 10,
     "metadata": {},
     "output_type": "execute_result"
    }
   ],
   "source": [
    "l = [i for i in range(100) if is_prime(i)] # just for fun printing prime numbers under 100 using list comprehension\n",
    "l"
   ]
  },
  {
   "cell_type": "markdown",
   "metadata": {},
   "source": [
    "# Practical 5"
   ]
  },
  {
   "cell_type": "markdown",
   "metadata": {},
   "source": [
    "A] Write a python programme to find whether an element is in the given list or not using linear search."
   ]
  },
  {
   "cell_type": "code",
   "execution_count": 11,
   "metadata": {},
   "outputs": [
    {
     "name": "stdout",
     "output_type": "stream",
     "text": [
      "element found in list\n"
     ]
    }
   ],
   "source": [
    "l =[1,2,3,4,5,6,7,8] # creationg random list\n",
    "\n",
    "\n",
    "def find_element(n):\n",
    "    for i in l:      # linear search ,going through each elementn in list\n",
    "        if n == i:       # condtion to check element present in list \n",
    "            print(\"element found in list\")\n",
    "            break\n",
    "    else:\n",
    "        print(\" element not found in list\")\n",
    "\n",
    "\n",
    "find_element(7)\n"
   ]
  },
  {
   "cell_type": "code",
   "execution_count": 12,
   "metadata": {},
   "outputs": [
    {
     "name": "stdout",
     "output_type": "stream",
     "text": [
      " element not found in list\n"
     ]
    }
   ],
   "source": [
    "find_element(9)"
   ]
  },
  {
   "cell_type": "markdown",
   "metadata": {},
   "source": [
    "B] Write a python code which displays first 7 numbers of Fibonacci sequence using recursion function."
   ]
  },
  {
   "cell_type": "code",
   "execution_count": 31,
   "metadata": {},
   "outputs": [
    {
     "name": "stdout",
     "output_type": "stream",
     "text": [
      "1  1  2  3  5  8  13  "
     ]
    }
   ],
   "source": [
    "def febo(n):      # defining function\n",
    "    if n <= 2:\n",
    "        return 1         # base case\n",
    "    else:\n",
    "        return febo(n-1)+ febo(n-2) # recursive case ,function calling itself\n",
    "    \n",
    "\n",
    "for i in range(1,8):         # printing first seven fibonacci number\n",
    "    print(febo(i),end=\"  \")"
   ]
  },
  {
   "cell_type": "code",
   "execution_count": 33,
   "metadata": {},
   "outputs": [
    {
     "data": {
      "text/plain": [
       "[1, 1, 2, 3, 5, 8, 13]"
      ]
     },
     "execution_count": 33,
     "metadata": {},
     "output_type": "execute_result"
    }
   ],
   "source": [
    "[febo(i) for i in range(1,8) ] # printing first seven fibonacci number using list comprehension"
   ]
  },
  {
   "cell_type": "markdown",
   "metadata": {},
   "source": [
    "C] Write a python programme which displays the value of 7! using recursion function"
   ]
  },
  {
   "cell_type": "code",
   "execution_count": 13,
   "metadata": {},
   "outputs": [
    {
     "data": {
      "text/plain": [
       "5040"
      ]
     },
     "execution_count": 13,
     "metadata": {},
     "output_type": "execute_result"
    }
   ],
   "source": [
    "def fact(n):      # degfine function fact # passing arument variable n\n",
    "    if n <=2:        # if n is less than 2 ,we are returning n (note:return is like print for function)\n",
    "        return n\n",
    "    else:           # in n > 2\n",
    "        return n * fact(n-1)  # suppose n = 3 then we are doing 3 * (3-1)= 3 * 2 =6 (note: we are calling our function )\n",
    "fact(7)"
   ]
  },
  {
   "cell_type": "markdown",
   "metadata": {},
   "source": [
    "D] Write a python programme which a natural number ‘n’ and display sum of first ‘n’ natural numbers."
   ]
  },
  {
   "cell_type": "code",
   "execution_count": 35,
   "metadata": {},
   "outputs": [
    {
     "data": {
      "text/plain": [
       "21"
      ]
     },
     "execution_count": 35,
     "metadata": {},
     "output_type": "execute_result"
    }
   ],
   "source": [
    "def natural(n):     # define function natural # passing argumen n\n",
    "    if n<1:           \n",
    "        print(\"it is not an natural number\")\n",
    "    elif n == 1:\n",
    "        return n\n",
    "    else :\n",
    "        return n + natural(n-1) # suppose n = 3 then  3 + (3-1) + 1(due to recursion) = 6\n",
    "    \n",
    "natural(6)"
   ]
  },
  {
   "cell_type": "markdown",
   "metadata": {},
   "source": [
    "E] Write a python programme using function that accepts 5 positive integers and display their mean."
   ]
  },
  {
   "cell_type": "code",
   "execution_count": 14,
   "metadata": {},
   "outputs": [],
   "source": [
    "def mean(*args):       # * args means we can n numbers of argument inside function\n",
    "    adding_all_integer = sum(args)      # adding all 5 numbers\n",
    "    average = adding_all_integer/5       # dividing sum by 5 \n",
    "    \n",
    "    return average"
   ]
  },
  {
   "cell_type": "code",
   "execution_count": 15,
   "metadata": {},
   "outputs": [
    {
     "data": {
      "text/plain": [
       "3.8"
      ]
     },
     "execution_count": 15,
     "metadata": {},
     "output_type": "execute_result"
    }
   ],
   "source": [
    "mean(1,2,6,7,3)"
   ]
  },
  {
   "cell_type": "markdown",
   "metadata": {},
   "source": [
    "F] Write a python programme using function that accepts 5 positive integers and display their mode."
   ]
  },
  {
   "cell_type": "code",
   "execution_count": 25,
   "metadata": {},
   "outputs": [
    {
     "name": "stdout",
     "output_type": "stream",
     "text": [
      "no of element : {8, 5, 6, 7}\n",
      "{8: 2, 5: 1, 6: 1, 7: 1}\n",
      " \n",
      "mode is 8\n"
     ]
    }
   ],
   "source": [
    "def mod(*args):\n",
    "\n",
    "\n",
    "    l = list(args)      # convertin given argument to list\n",
    "    s= set(args)       # convertion to set (to remove duplcates)\n",
    "    print(\"no of element :\",s)\n",
    "    d ={}                # dictionary (hash table) to store key: value\n",
    "    for i in s: \n",
    "        var =l.count(i)      # countiong number of occurance\n",
    "        d[i] = var      \n",
    "\n",
    "    print(d)  \n",
    "    print(\" \")\n",
    "    mode_count = max(d.values())     # getting number with maximum occurance\n",
    "    for key, value in d.items():      # this for loop prints mode in given 5 integers\n",
    "        if value == 1:\n",
    "            \n",
    "            pass\n",
    "        elif value == mode_count:\n",
    "            print(\"mode is\",key)\n",
    "            break\n",
    "    else:\n",
    "        return \"no mode\"\n",
    "    \n",
    "mod(5,8,6,7,8)"
   ]
  },
  {
   "cell_type": "markdown",
   "metadata": {},
   "source": [
    "G] Write a python programme using function that accepts 5 positive integers and display their median."
   ]
  },
  {
   "cell_type": "code",
   "execution_count": 33,
   "metadata": {},
   "outputs": [],
   "source": [
    "def median(a,b,c,d,e):     # this type I habe just changed input style from * args to a,b,c,d,e although you can use * args\n",
    "    l = [a,b,c,d,e]      # creationg list from given input\n",
    "    sort = sorted(l)    # sorting list \n",
    "    mid  = len(l)//2  # this is straight forward as 5 is odd so we just finding  middle term \n",
    "\n",
    "    \n",
    "    return sort[mid]"
   ]
  },
  {
   "cell_type": "code",
   "execution_count": 36,
   "metadata": {},
   "outputs": [
    {
     "data": {
      "text/plain": [
       "6"
      ]
     },
     "execution_count": 36,
     "metadata": {},
     "output_type": "execute_result"
    }
   ],
   "source": [
    "median(2,2,7,6,6)"
   ]
  },
  {
   "cell_type": "code",
   "execution_count": 41,
   "metadata": {},
   "outputs": [
    {
     "name": "stdout",
     "output_type": "stream",
     "text": [
      "mean:210.2, median:78.0\n"
     ]
    }
   ],
   "source": [
    "#using numpy \n",
    "\n",
    "import numpy as np      # we can find all above mean ,median ,mod using numpy in single line\n",
    "\n",
    "l = [3,4,78,888,78]\n",
    "\n",
    "mean = np.mean(l)\n",
    "median = np.median(l)\n",
    "\n",
    "print(\"mean:{0}, median:{1}\".format(mean,median))"
   ]
  },
  {
   "cell_type": "markdown",
   "metadata": {},
   "source": [
    "# Practical 6"
   ]
  },
  {
   "cell_type": "markdown",
   "metadata": {},
   "source": [
    "A] Write a python programme which display positive and negative numbers of a list into two separate lists and raises an error at the end of the programme.\n"
   ]
  },
  {
   "cell_type": "code",
   "execution_count": 70,
   "metadata": {},
   "outputs": [
    {
     "name": "stdout",
     "output_type": "stream",
     "text": [
      "[1, 2, 3] and [-1, -2, -4]\n"
     ]
    },
    {
     "ename": "Exception",
     "evalue": "list is separated",
     "output_type": "error",
     "traceback": [
      "\u001b[1;31m---------------------------------------------------------------------------\u001b[0m",
      "\u001b[1;31mException\u001b[0m                                 Traceback (most recent call last)",
      "\u001b[1;32m<ipython-input-70-c0344f78ebc1>\u001b[0m in \u001b[0;36m<module>\u001b[1;34m\u001b[0m\n\u001b[0;32m     10\u001b[0m \u001b[0mprint\u001b[0m\u001b[1;33m(\u001b[0m\u001b[0mpositive\u001b[0m \u001b[1;33m,\u001b[0m\u001b[1;34m\"and\"\u001b[0m\u001b[1;33m,\u001b[0m \u001b[0mnegative\u001b[0m\u001b[1;33m)\u001b[0m\u001b[1;33m\u001b[0m\u001b[1;33m\u001b[0m\u001b[0m\n\u001b[0;32m     11\u001b[0m \u001b[1;33m\u001b[0m\u001b[0m\n\u001b[1;32m---> 12\u001b[1;33m \u001b[1;32mraise\u001b[0m \u001b[0mException\u001b[0m\u001b[1;33m(\u001b[0m\u001b[1;34m\"list is separated\"\u001b[0m\u001b[1;33m)\u001b[0m\u001b[1;33m\u001b[0m\u001b[1;33m\u001b[0m\u001b[0m\n\u001b[0m",
      "\u001b[1;31mException\u001b[0m: list is separated"
     ]
    }
   ],
   "source": [
    "l =[-1,-2,-4,1,2,3]\n",
    "negative=[]     # creatin empty list to store elements\n",
    "positive=[]\n",
    "for i in l: \n",
    "    if i < 0:\n",
    "        negative.append(i)   # adding element to negative list\n",
    "        \n",
    "    else:\n",
    "        positive.append(i)   #adding element to positive list\n",
    "print(positive ,\"and\", negative)\n",
    "        \n",
    "raise Exception(\"list is separated\") # raising custom exception using inbuilt raise function"
   ]
  },
  {
   "cell_type": "markdown",
   "metadata": {},
   "source": [
    "B] Write a python programme which display even and odd numbers of a list into two separate lists and raises an error at the end of the programme."
   ]
  },
  {
   "cell_type": "code",
   "execution_count": 71,
   "metadata": {},
   "outputs": [
    {
     "name": "stdout",
     "output_type": "stream",
     "text": [
      "[1, 3, 55, 77, 89, 45, 5] and [2, 6, 900]\n"
     ]
    },
    {
     "ename": "Exception",
     "evalue": "list is separated into odd and even",
     "output_type": "error",
     "traceback": [
      "\u001b[1;31m---------------------------------------------------------------------------\u001b[0m",
      "\u001b[1;31mException\u001b[0m                                 Traceback (most recent call last)",
      "\u001b[1;32m<ipython-input-71-ee26b550cb8f>\u001b[0m in \u001b[0;36m<module>\u001b[1;34m\u001b[0m\n\u001b[0;32m      5\u001b[0m \u001b[1;33m\u001b[0m\u001b[0m\n\u001b[0;32m      6\u001b[0m \u001b[0mprint\u001b[0m\u001b[1;33m(\u001b[0m\u001b[0modd\u001b[0m\u001b[1;33m,\u001b[0m\u001b[1;34m\"and\"\u001b[0m\u001b[1;33m,\u001b[0m\u001b[0meven\u001b[0m\u001b[1;33m)\u001b[0m\u001b[1;33m\u001b[0m\u001b[1;33m\u001b[0m\u001b[0m\n\u001b[1;32m----> 7\u001b[1;33m \u001b[1;32mraise\u001b[0m \u001b[0mException\u001b[0m\u001b[1;33m(\u001b[0m\u001b[1;34m\"list is separated into odd and even\"\u001b[0m\u001b[1;33m)\u001b[0m\u001b[1;33m\u001b[0m\u001b[1;33m\u001b[0m\u001b[0m\n\u001b[0m",
      "\u001b[1;31mException\u001b[0m: list is separated into odd and even"
     ]
    }
   ],
   "source": [
    "l1 = [1,2,3,55,6,77,89,900,45,5]\n",
    "\n",
    "odd = [i for i in l1 if i%2 !=0]      # list comprhension to print even and odd numbers\n",
    "even = [i for i in l1 if i%2 == 0]\n",
    "\n",
    "print(odd,\"and\",even)\n",
    "raise Exception(\"list is separated into odd and even\")# raising custom exception using inbuilt raise function"
   ]
  },
  {
   "cell_type": "markdown",
   "metadata": {},
   "source": [
    "C] Write a python programme using generator to produce arithmetic progression where the first term, common difference and number of terms were entered by user."
   ]
  },
  {
   "cell_type": "code",
   "execution_count": 57,
   "metadata": {},
   "outputs": [
    {
     "data": {
      "text/plain": [
       "<generator object AP at 0x000001FE2CF899E0>"
      ]
     },
     "execution_count": 57,
     "metadata": {},
     "output_type": "execute_result"
    }
   ],
   "source": [
    "def AP(a1,n,d):\n",
    "    for i in range(a1,n,d):     # a1 is first term , n is last term , d is diffrence (step in case of range function)\n",
    "        yield i          # yield is used to create genrator function\n"
   ]
  },
  {
   "cell_type": "code",
   "execution_count": 60,
   "metadata": {},
   "outputs": [
    {
     "name": "stdout",
     "output_type": "stream",
     "text": [
      "2\n",
      "7\n",
      "12\n",
      "17\n",
      "22\n",
      "27\n",
      "32\n",
      "37\n",
      "42\n",
      "47\n"
     ]
    }
   ],
   "source": [
    "for i in AP(2,50,5):      # loopint thrugh genrator to check values\n",
    "    print(i)\n",
    "    "
   ]
  },
  {
   "cell_type": "markdown",
   "metadata": {},
   "source": [
    "D] Write a python programme which accept two sets A and B and display the elements of AxB."
   ]
  },
  {
   "cell_type": "code",
   "execution_count": 91,
   "metadata": {},
   "outputs": [
    {
     "name": "stdout",
     "output_type": "stream",
     "text": [
      "{1, 4} {1, 5} {2, 4} {2, 5} {3, 4} {3, 5} "
     ]
    }
   ],
   "source": [
    "def AxB(A,B):  # defining function taking two sets \n",
    "    for i in A:    # loopin throun set A\n",
    "        for j in B: ## loopin throun set B\n",
    "            print({i,j},end=\" \")\n",
    "AxB({1,2,3},{4,5})"
   ]
  },
  {
   "cell_type": "markdown",
   "metadata": {},
   "source": [
    "E] Explain the difference between yield and return."
   ]
  },
  {
   "cell_type": "markdown",
   "metadata": {},
   "source": [
    "Yield is generally used to convert a regular Python function into a generator.\n",
    "it can run multiple time,\n",
    "it is memory efficient,\n",
    "Code written after yield statement execute in next function call\n",
    "\n",
    "\n",
    "Return is generally used for the end of the execution and “returns” the result to the caller statement,\n",
    "it can run only one time,\n",
    "it will take memory from your coamputer,\n",
    "while, code written after return statement wont execute"
   ]
  },
  {
   "cell_type": "markdown",
   "metadata": {},
   "source": [
    "# Practical 7"
   ]
  },
  {
   "cell_type": "markdown",
   "metadata": {},
   "source": [
    "A] Write a python programme which open a file name “maths.txt” in the read mode and display the name, mode of the file and find whether it is closed using the file attributes.\n"
   ]
  },
  {
   "cell_type": "code",
   "execution_count": 45,
   "metadata": {},
   "outputs": [],
   "source": [
    "file = open(\"maths.txt\",\"w\")  # creating \"maths.txt using write(w) mode\"\n",
    "file.write('my name is rushikesh') # entering data in our maths.txt file\n",
    "\n",
    "file.close()          # closing file is important to save changes"
   ]
  },
  {
   "cell_type": "code",
   "execution_count": 20,
   "metadata": {},
   "outputs": [
    {
     "name": "stdout",
     "output_type": "stream",
     "text": [
      "file name is : maths.txt\n",
      "file mode is : r\n",
      "data inside file : my name is rushikesh\n"
     ]
    }
   ],
   "source": [
    "file = open(\"maths.txt\",\"r\")     # reading file we created abobe\n",
    "print(\"file name is :\",file.name)\n",
    "print('file mode is :',file.mode)\n",
    "print('data inside file :',file.read())\n",
    "file.close()"
   ]
  },
  {
   "cell_type": "code",
   "execution_count": 21,
   "metadata": {},
   "outputs": [
    {
     "ename": "ValueError",
     "evalue": "I/O operation on closed file.",
     "output_type": "error",
     "traceback": [
      "\u001b[1;31m---------------------------------------------------------------------------\u001b[0m",
      "\u001b[1;31mValueError\u001b[0m                                Traceback (most recent call last)",
      "\u001b[1;32m<ipython-input-21-058d4917bcb9>\u001b[0m in \u001b[0;36m<module>\u001b[1;34m\u001b[0m\n\u001b[1;32m----> 1\u001b[1;33m \u001b[0mprint\u001b[0m\u001b[1;33m(\u001b[0m\u001b[0mfile\u001b[0m\u001b[1;33m.\u001b[0m\u001b[0mread\u001b[0m\u001b[1;33m(\u001b[0m\u001b[1;33m)\u001b[0m\u001b[1;33m)\u001b[0m \u001b[1;31m# this argument will not work beacause i had closed the file\u001b[0m\u001b[1;33m\u001b[0m\u001b[1;33m\u001b[0m\u001b[0m\n\u001b[0m",
      "\u001b[1;31mValueError\u001b[0m: I/O operation on closed file."
     ]
    }
   ],
   "source": [
    "print(file.read()) # this argument will not work beacause i had closed the file"
   ]
  },
  {
   "cell_type": "markdown",
   "metadata": {},
   "source": [
    "B] Write a programme to find the ASCII value of each character in a file.\n"
   ]
  },
  {
   "cell_type": "code",
   "execution_count": 13,
   "metadata": {},
   "outputs": [
    {
     "name": "stdout",
     "output_type": "stream",
     "text": [
      "['my name is rushikesh']\n",
      "ASCII value of m = 109\n",
      "ASCII value of y = 121\n",
      "ASCII value of   = 32\n",
      "ASCII value of n = 110\n",
      "ASCII value of a = 97\n",
      "ASCII value of m = 109\n",
      "ASCII value of e = 101\n",
      "ASCII value of   = 32\n",
      "ASCII value of i = 105\n",
      "ASCII value of s = 115\n",
      "ASCII value of   = 32\n",
      "ASCII value of r = 114\n",
      "ASCII value of u = 117\n",
      "ASCII value of s = 115\n",
      "ASCII value of h = 104\n",
      "ASCII value of i = 105\n",
      "ASCII value of k = 107\n",
      "ASCII value of e = 101\n",
      "ASCII value of s = 115\n",
      "ASCII value of h = 104\n"
     ]
    }
   ],
   "source": [
    "with open(\"maths.txt\", \"r\") as file:    # reading the file\n",
    "    data = file.readlines()     # reading first line in our file\n",
    "    print(data) \n",
    "    for i in data[0]:    # using list slicing data[0] gives 'my name is rushikesh' from list data\n",
    "        print(\"ASCII value of {0} =\".format(i),ord(i))\n",
    "        # loopoin thruough above line and ord is inbulit function to printASCII\n",
    "    "
   ]
  },
  {
   "cell_type": "markdown",
   "metadata": {},
   "source": [
    "C] Write a python programme to copy the content one file to another.\n"
   ]
  },
  {
   "cell_type": "code",
   "execution_count": 21,
   "metadata": {},
   "outputs": [],
   "source": [
    "with open(\"maths.txt\") as first:   # reading  file\n",
    "    with open(\"copy_maths.txt\",\"w\") as second: # writhing new file to copy data from first one\n",
    "        for line in first:             # \n",
    "            second.write(line)"
   ]
  },
  {
   "cell_type": "code",
   "execution_count": 22,
   "metadata": {},
   "outputs": [
    {
     "name": "stdout",
     "output_type": "stream",
     "text": [
      "my name is rushikesh\n"
     ]
    }
   ],
   "source": [
    "with open(\"copy_maths.txt\") as second:     # checking our data is stored in newly created file\n",
    "    print(second.read())"
   ]
  },
  {
   "cell_type": "code",
   "execution_count": null,
   "metadata": {},
   "outputs": [],
   "source": []
  },
  {
   "cell_type": "markdown",
   "metadata": {},
   "source": [
    "D] Write a python programme to capitalize the first character of each word in a file.\n",
    "."
   ]
  },
  {
   "cell_type": "code",
   "execution_count": 20,
   "metadata": {},
   "outputs": [
    {
     "name": "stdout",
     "output_type": "stream",
     "text": [
      "['my', 'name', 'is', 'rushikesh']\n",
      "my : M\n",
      "name : N\n",
      "is : I\n",
      "rushikesh : R\n"
     ]
    }
   ],
   "source": [
    "with open(\"maths.txt\", \"r\") as file:      # reading the file\n",
    "    data = file.readlines()               # reading first line in our fil\n",
    "    data = file.readlines()\n",
    "    \n",
    "    for line in data:    # loopin through data which is this ['my name is rushikesh']\n",
    "        word= line.split() # split is used to separated words by space\n",
    "        print(word)\n",
    "        \n",
    "    for i in word:\n",
    "        var = i[0].upper()   # capitalize first element by using upper function in pyhton\n",
    "        print(i,\":\",var)"
   ]
  },
  {
   "cell_type": "markdown",
   "metadata": {},
   "source": [
    "E] Write a python programme which accept the word “MATHEMATICS” and display the number of occurrences of “A”"
   ]
  },
  {
   "cell_type": "code",
   "execution_count": 18,
   "metadata": {},
   "outputs": [
    {
     "data": {
      "text/plain": [
       "2"
      ]
     },
     "execution_count": 18,
     "metadata": {},
     "output_type": "execute_result"
    }
   ],
   "source": [
    "def displyA(string):\n",
    "    \n",
    "    count=0        # countion number of occurance of A\n",
    "    for i in string:   # loopin through string e.g:MATHEMATICS\n",
    "        if i == 'A':  # checking any word is eqal to A\n",
    "            count +=1 # counting number of occurances\n",
    "            \n",
    "    return count\n",
    "\n",
    "displyA('MATHEMATICS')"
   ]
  },
  {
   "cell_type": "code",
   "execution_count": null,
   "metadata": {},
   "outputs": [],
   "source": []
  }
 ],
 "metadata": {
  "kernelspec": {
   "display_name": "Python 3",
   "language": "python",
   "name": "python3"
  },
  "language_info": {
   "codemirror_mode": {
    "name": "ipython",
    "version": 3
   },
   "file_extension": ".py",
   "mimetype": "text/x-python",
   "name": "python",
   "nbconvert_exporter": "python",
   "pygments_lexer": "ipython3",
   "version": "3.8.5"
  }
 },
 "nbformat": 4,
 "nbformat_minor": 4
}
